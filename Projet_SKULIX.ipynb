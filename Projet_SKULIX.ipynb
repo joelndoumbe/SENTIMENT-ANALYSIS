{
 "cells": [
  {
   "cell_type": "markdown",
   "metadata": {},
   "source": [
    "# PROJET SKULIX SENTIMENT ANALYSIS"
   ]
  },
  {
   "cell_type": "code",
   "execution_count": 2,
   "metadata": {},
   "outputs": [],
   "source": [
    "import numpy as np\n",
    "import pandas as pd\n",
    "import nltk\n",
    "import matplotlib as plt\n",
    "from textblob import TextBlob"
   ]
  },
  {
   "cell_type": "code",
   "execution_count": 3,
   "metadata": {},
   "outputs": [
    {
     "data": {
      "text/html": [
       "<div>\n",
       "<style scoped>\n",
       "    .dataframe tbody tr th:only-of-type {\n",
       "        vertical-align: middle;\n",
       "    }\n",
       "\n",
       "    .dataframe tbody tr th {\n",
       "        vertical-align: top;\n",
       "    }\n",
       "\n",
       "    .dataframe thead th {\n",
       "        text-align: right;\n",
       "    }\n",
       "</style>\n",
       "<table border=\"1\" class=\"dataframe\">\n",
       "  <thead>\n",
       "    <tr style=\"text-align: right;\">\n",
       "      <th></th>\n",
       "      <th>label</th>\n",
       "      <th>text</th>\n",
       "    </tr>\n",
       "  </thead>\n",
       "  <tbody>\n",
       "    <tr>\n",
       "      <th>0</th>\n",
       "      <td>0</td>\n",
       "      <td>- Awww, c'est un bummer. Tu devrais avoir davi...</td>\n",
       "    </tr>\n",
       "    <tr>\n",
       "      <th>1</th>\n",
       "      <td>0</td>\n",
       "      <td>Est contrarié qu'il ne puisse pas mettre à jou...</td>\n",
       "    </tr>\n",
       "    <tr>\n",
       "      <th>2</th>\n",
       "      <td>0</td>\n",
       "      <td>J'ai plongé plusieurs fois pour la balle. A ré...</td>\n",
       "    </tr>\n",
       "    <tr>\n",
       "      <th>3</th>\n",
       "      <td>0</td>\n",
       "      <td>Tout mon corps a des démangeaisons et comme si...</td>\n",
       "    </tr>\n",
       "    <tr>\n",
       "      <th>4</th>\n",
       "      <td>0</td>\n",
       "      <td>Non, il ne se comporte pas du tout. je suis en...</td>\n",
       "    </tr>\n",
       "  </tbody>\n",
       "</table>\n",
       "</div>"
      ],
      "text/plain": [
       "   label                                               text\n",
       "0      0  - Awww, c'est un bummer. Tu devrais avoir davi...\n",
       "1      0  Est contrarié qu'il ne puisse pas mettre à jou...\n",
       "2      0  J'ai plongé plusieurs fois pour la balle. A ré...\n",
       "3      0  Tout mon corps a des démangeaisons et comme si...\n",
       "4      0  Non, il ne se comporte pas du tout. je suis en..."
      ]
     },
     "execution_count": 3,
     "metadata": {},
     "output_type": "execute_result"
    }
   ],
   "source": [
    "data = pd.read_csv(\"french_tweets.csv\")\n",
    "data.head()"
   ]
  },
  {
   "cell_type": "markdown",
   "metadata": {},
   "source": [
    "## NETTOYAGE"
   ]
  },
  {
   "cell_type": "code",
   "execution_count": 4,
   "metadata": {},
   "outputs": [],
   "source": [
    "import re\n",
    "import advertools as ad\n",
    "\n",
    "def cleanTxt(elt):\n",
    "\n",
    "    elt=elt.lower()\n",
    "    elt=' '.join(elt.split())\n",
    "    elt = re.sub(r\"[A-Za-z\\.]*[0-9]+[A-Za-z%°\\.]*\", \"\", elt)\n",
    "    elt = re.sub(r\"(\\s\\-\\s|-$)\", \"\", elt)\n",
    "    elt = re.sub(r\"[,\\!\\?\\%\\(\\)\\/\\\"]\", \"\", elt)\n",
    "    elt = re.sub(r\"\\&\\S*\\s\", \"\", elt)\n",
    "    elt = re.sub(r\"\\&\", \"\", elt)\n",
    "    elt = re.sub(r\"\\+\", \"\", elt)\n",
    "    elt = re.sub(r\"#\", \"\", elt)\n",
    "    elt = re.sub(r\"\\$\", \"\", elt)\n",
    "    elt = re.sub(r\"\\£\", \"\", elt)\n",
    "    elt = re.sub(r\"\\%\", \"\", elt)\n",
    "    elt = re.sub(r\"\\-\", \"\", elt)\n",
    "    elt = re.sub(r\"\\:\", \"\", elt)\n",
    "    elt = re.sub(r\"\\/\", \"\", elt)\n",
    "    elt = re.sub(r\";\", \" \", elt)\n",
    "    elt = re.sub(r'https?:\\/\\/S+', \"\", elt)\n",
    "    elt = re.sub(r'@[A-Za-z0-9]+', \"\", elt)\n",
    "    elt = re.sub(r\"\\-\", \"\", elt)\n",
    "\n",
    "    return elt\n",
    "\n",
    "\n",
    "def extract_emoti(text):    \n",
    "    summ = ad.extract_emoji([text])\n",
    "    return summ['emoji']\n",
    "\n",
    "\n",
    "def supprimmer_emoti(text):\n",
    "    regrex_pattern = re.compile(pattern = \"[\"\n",
    "    u\"\\U0001F600-\\U0001F64F\"  # emoticons\n",
    "    u\"\\U0001F300-\\U0001F5FF\"  # symbols & pictographs\n",
    "    u\"\\U0001F680-\\U0001F6FF\"  # transport & map symbols\n",
    "    u\"\\U0001F1E0-\\U0001F1FF\"  # flags (iOS)\n",
    "    \"]+\", flags = re.UNICODE)\n",
    "    return regrex_pattern.sub(r'',text)\n",
    "\n",
    "def tokenisation(text):\n",
    "    text = TextBlob(text).words\n",
    "    return text"
   ]
  },
  {
   "cell_type": "code",
   "execution_count": 5,
   "metadata": {},
   "outputs": [],
   "source": [
    "from stop_words import get_stop_words       #About 900 stopwords\n",
    "stop_words1 = get_stop_words('french')\n",
    "\n",
    "def stop_words(text):\n",
    "    for elt in text: # iterate over word_list\n",
    "        if elt in stop_words1:\n",
    "            text.remove(elt)\n",
    "            \n",
    "    return text"
   ]
  },
  {
   "cell_type": "code",
   "execution_count": 6,
   "metadata": {},
   "outputs": [],
   "source": [
    "data['text'] = data['text'].apply(cleanTxt)"
   ]
  },
  {
   "cell_type": "code",
   "execution_count": 7,
   "metadata": {},
   "outputs": [
    {
     "data": {
      "text/html": [
       "<div>\n",
       "<style scoped>\n",
       "    .dataframe tbody tr th:only-of-type {\n",
       "        vertical-align: middle;\n",
       "    }\n",
       "\n",
       "    .dataframe tbody tr th {\n",
       "        vertical-align: top;\n",
       "    }\n",
       "\n",
       "    .dataframe thead th {\n",
       "        text-align: right;\n",
       "    }\n",
       "</style>\n",
       "<table border=\"1\" class=\"dataframe\">\n",
       "  <thead>\n",
       "    <tr style=\"text-align: right;\">\n",
       "      <th></th>\n",
       "      <th>label</th>\n",
       "      <th>text</th>\n",
       "    </tr>\n",
       "  </thead>\n",
       "  <tbody>\n",
       "    <tr>\n",
       "      <th>0</th>\n",
       "      <td>0</td>\n",
       "      <td>awww c'est un bummer. tu devrais avoir david ...</td>\n",
       "    </tr>\n",
       "    <tr>\n",
       "      <th>1</th>\n",
       "      <td>0</td>\n",
       "      <td>est contrarié qu'il ne puisse pas mettre à jou...</td>\n",
       "    </tr>\n",
       "    <tr>\n",
       "      <th>2</th>\n",
       "      <td>0</td>\n",
       "      <td>j'ai plongé plusieurs fois pour la balle. a ré...</td>\n",
       "    </tr>\n",
       "    <tr>\n",
       "      <th>3</th>\n",
       "      <td>0</td>\n",
       "      <td>tout mon corps a des démangeaisons et comme si...</td>\n",
       "    </tr>\n",
       "    <tr>\n",
       "      <th>4</th>\n",
       "      <td>0</td>\n",
       "      <td>non il ne se comporte pas du tout. je suis en ...</td>\n",
       "    </tr>\n",
       "    <tr>\n",
       "      <th>...</th>\n",
       "      <td>...</td>\n",
       "      <td>...</td>\n",
       "    </tr>\n",
       "    <tr>\n",
       "      <th>1526794</th>\n",
       "      <td>1</td>\n",
       "      <td>oui cela fonctionne mieux que de l'attendre à ...</td>\n",
       "    </tr>\n",
       "    <tr>\n",
       "      <th>1526795</th>\n",
       "      <td>1</td>\n",
       "      <td>je viens de me réveiller. ne pas avoir d'école...</td>\n",
       "    </tr>\n",
       "    <tr>\n",
       "      <th>1526796</th>\n",
       "      <td>1</td>\n",
       "      <td>thewdb.comtrès cool d'entendre les vieilles in...</td>\n",
       "    </tr>\n",
       "    <tr>\n",
       "      <th>1526797</th>\n",
       "      <td>1</td>\n",
       "      <td>êtesvous prêt pour votre mojo makeover demande...</td>\n",
       "    </tr>\n",
       "    <tr>\n",
       "      <th>1526798</th>\n",
       "      <td>1</td>\n",
       "      <td>joyeux ème anniversaire à mon livre de tous le...</td>\n",
       "    </tr>\n",
       "  </tbody>\n",
       "</table>\n",
       "<p>1526799 rows × 2 columns</p>\n",
       "</div>"
      ],
      "text/plain": [
       "         label                                               text\n",
       "0            0   awww c'est un bummer. tu devrais avoir david ...\n",
       "1            0  est contrarié qu'il ne puisse pas mettre à jou...\n",
       "2            0  j'ai plongé plusieurs fois pour la balle. a ré...\n",
       "3            0  tout mon corps a des démangeaisons et comme si...\n",
       "4            0  non il ne se comporte pas du tout. je suis en ...\n",
       "...        ...                                                ...\n",
       "1526794      1  oui cela fonctionne mieux que de l'attendre à ...\n",
       "1526795      1  je viens de me réveiller. ne pas avoir d'école...\n",
       "1526796      1  thewdb.comtrès cool d'entendre les vieilles in...\n",
       "1526797      1  êtesvous prêt pour votre mojo makeover demande...\n",
       "1526798      1  joyeux ème anniversaire à mon livre de tous le...\n",
       "\n",
       "[1526799 rows x 2 columns]"
      ]
     },
     "execution_count": 7,
     "metadata": {},
     "output_type": "execute_result"
    }
   ],
   "source": [
    "data"
   ]
  },
  {
   "cell_type": "code",
   "execution_count": 8,
   "metadata": {},
   "outputs": [],
   "source": [
    "data['emoji'] = data['text'].apply(extract_emoti)"
   ]
  },
  {
   "cell_type": "code",
   "execution_count": 11,
   "metadata": {},
   "outputs": [
    {
     "data": {
      "text/html": [
       "<div>\n",
       "<style scoped>\n",
       "    .dataframe tbody tr th:only-of-type {\n",
       "        vertical-align: middle;\n",
       "    }\n",
       "\n",
       "    .dataframe tbody tr th {\n",
       "        vertical-align: top;\n",
       "    }\n",
       "\n",
       "    .dataframe thead th {\n",
       "        text-align: right;\n",
       "    }\n",
       "</style>\n",
       "<table border=\"1\" class=\"dataframe\">\n",
       "  <thead>\n",
       "    <tr style=\"text-align: right;\">\n",
       "      <th></th>\n",
       "      <th>label</th>\n",
       "      <th>text</th>\n",
       "      <th>emoji</th>\n",
       "    </tr>\n",
       "  </thead>\n",
       "  <tbody>\n",
       "    <tr>\n",
       "      <th>0</th>\n",
       "      <td>0</td>\n",
       "      <td>awww c'est un bummer. tu devrais avoir david ...</td>\n",
       "      <td>[[]]</td>\n",
       "    </tr>\n",
       "    <tr>\n",
       "      <th>1</th>\n",
       "      <td>0</td>\n",
       "      <td>est contrarié qu'il ne puisse pas mettre à jou...</td>\n",
       "      <td>[[]]</td>\n",
       "    </tr>\n",
       "    <tr>\n",
       "      <th>2</th>\n",
       "      <td>0</td>\n",
       "      <td>j'ai plongé plusieurs fois pour la balle. a ré...</td>\n",
       "      <td>[[]]</td>\n",
       "    </tr>\n",
       "    <tr>\n",
       "      <th>3</th>\n",
       "      <td>0</td>\n",
       "      <td>tout mon corps a des démangeaisons et comme si...</td>\n",
       "      <td>[[]]</td>\n",
       "    </tr>\n",
       "    <tr>\n",
       "      <th>4</th>\n",
       "      <td>0</td>\n",
       "      <td>non il ne se comporte pas du tout. je suis en ...</td>\n",
       "      <td>[[]]</td>\n",
       "    </tr>\n",
       "    <tr>\n",
       "      <th>...</th>\n",
       "      <td>...</td>\n",
       "      <td>...</td>\n",
       "      <td>...</td>\n",
       "    </tr>\n",
       "    <tr>\n",
       "      <th>1526794</th>\n",
       "      <td>1</td>\n",
       "      <td>oui cela fonctionne mieux que de l'attendre à ...</td>\n",
       "      <td>[[]]</td>\n",
       "    </tr>\n",
       "    <tr>\n",
       "      <th>1526795</th>\n",
       "      <td>1</td>\n",
       "      <td>je viens de me réveiller. ne pas avoir d'école...</td>\n",
       "      <td>[[]]</td>\n",
       "    </tr>\n",
       "    <tr>\n",
       "      <th>1526796</th>\n",
       "      <td>1</td>\n",
       "      <td>thewdb.comtrès cool d'entendre les vieilles in...</td>\n",
       "      <td>[[]]</td>\n",
       "    </tr>\n",
       "    <tr>\n",
       "      <th>1526797</th>\n",
       "      <td>1</td>\n",
       "      <td>êtesvous prêt pour votre mojo makeover demande...</td>\n",
       "      <td>[[]]</td>\n",
       "    </tr>\n",
       "    <tr>\n",
       "      <th>1526798</th>\n",
       "      <td>1</td>\n",
       "      <td>joyeux ème anniversaire à mon livre de tous le...</td>\n",
       "      <td>[[]]</td>\n",
       "    </tr>\n",
       "  </tbody>\n",
       "</table>\n",
       "<p>1526799 rows × 3 columns</p>\n",
       "</div>"
      ],
      "text/plain": [
       "         label                                               text emoji\n",
       "0            0   awww c'est un bummer. tu devrais avoir david ...  [[]]\n",
       "1            0  est contrarié qu'il ne puisse pas mettre à jou...  [[]]\n",
       "2            0  j'ai plongé plusieurs fois pour la balle. a ré...  [[]]\n",
       "3            0  tout mon corps a des démangeaisons et comme si...  [[]]\n",
       "4            0  non il ne se comporte pas du tout. je suis en ...  [[]]\n",
       "...        ...                                                ...   ...\n",
       "1526794      1  oui cela fonctionne mieux que de l'attendre à ...  [[]]\n",
       "1526795      1  je viens de me réveiller. ne pas avoir d'école...  [[]]\n",
       "1526796      1  thewdb.comtrès cool d'entendre les vieilles in...  [[]]\n",
       "1526797      1  êtesvous prêt pour votre mojo makeover demande...  [[]]\n",
       "1526798      1  joyeux ème anniversaire à mon livre de tous le...  [[]]\n",
       "\n",
       "[1526799 rows x 3 columns]"
      ]
     },
     "execution_count": 11,
     "metadata": {},
     "output_type": "execute_result"
    }
   ],
   "source": [
    "data"
   ]
  },
  {
   "cell_type": "code",
   "execution_count": 12,
   "metadata": {},
   "outputs": [],
   "source": [
    "data['text'] = data['text'].apply(supprimmer_emoti)"
   ]
  },
  {
   "cell_type": "code",
   "execution_count": null,
   "metadata": {},
   "outputs": [],
   "source": [
    "data['text']=data['text'].apply(tokernisation)"
   ]
  },
  {
   "cell_type": "code",
   "execution_count": null,
   "metadata": {},
   "outputs": [],
   "source": [
    "data['text']=data['text'].apply(stop_words)"
   ]
  },
  {
   "cell_type": "markdown",
   "metadata": {},
   "source": [
    "# POLARITE"
   ]
  },
  {
   "cell_type": "code",
   "execution_count": 1,
   "metadata": {},
   "outputs": [],
   "source": [
    "from textblob import TextBlob\n",
    "from textblob_fr import PatternTagger, PatternAnalyzer"
   ]
  },
  {
   "cell_type": "code",
   "execution_count": null,
   "metadata": {},
   "outputs": [],
   "source": [
    "from textblob import Blobber\n",
    "from textblob_fr import PatternTagger, PatternAnalyzer\n",
    "tb = Blobber(pos_tagger=PatternTagger(), analyzer=PatternAnalyzer())\n",
    "\n",
    "def sentiment(text):\n",
    "    text = tb(text)\n",
    "    sen = text.sentiment.polarity\n",
    "    if sen<=0:\n",
    "        sent = 'neg'\n",
    "    else:\n",
    "        sent = 'pos'\n",
    "    return sent"
   ]
  },
  {
   "cell_type": "code",
   "execution_count": null,
   "metadata": {},
   "outputs": [],
   "source": [
    "data['textblob_label']= data['text'].apply(sentiment)"
   ]
  },
  {
   "cell_type": "code",
   "execution_count": 2,
   "metadata": {},
   "outputs": [
    {
     "data": {
      "text/plain": [
       "WordList(['python'])"
      ]
     },
     "execution_count": 2,
     "metadata": {},
     "output_type": "execute_result"
    }
   ],
   "source": [
    "data['label'].value_counts()"
   ]
  },
  {
   "cell_type": "code",
   "execution_count": null,
   "metadata": {},
   "outputs": [],
   "source": [
    "data['textblob_label'].value_counts()"
   ]
  },
  {
   "cell_type": "markdown",
   "metadata": {},
   "source": [
    "# FEATURES EXTRACTION"
   ]
  },
  {
   "cell_type": "markdown",
   "metadata": {},
   "source": [
    "## BIGRAMS"
   ]
  },
  {
   "cell_type": "code",
   "execution_count": 33,
   "metadata": {},
   "outputs": [
    {
     "data": {
      "text/plain": [
       "(0.0, 0.0)"
      ]
     },
     "execution_count": 33,
     "metadata": {},
     "output_type": "execute_result"
    }
   ],
   "source": [
    "def bigram(text)\n",
    "    tokens = tokenizer.tokenize(text)\n",
    "    return list(nltk.bigrams(tokens))\n",
    "data['text'].apply(bigram)"
   ]
  },
  {
   "cell_type": "markdown",
   "metadata": {},
   "source": [
    "## TD-IDF\n"
   ]
  },
  {
   "cell_type": "code",
   "execution_count": null,
   "metadata": {},
   "outputs": [],
   "source": [
    "from sklearn.feature_extraction.text import TfidfVectorizer\n",
    "cd = TfidfVectorizer()\n",
    "cd.fit(data[\"text\"])\n",
    "res = cd.transform(data[\"text\"])\n",
    "res.todense()"
   ]
  },
  {
   "cell_type": "markdown",
   "metadata": {},
   "source": [
    "# DECOUPAGE DU DATA SET"
   ]
  },
  {
   "cell_type": "code",
   "execution_count": null,
   "metadata": {},
   "outputs": [],
   "source": [
    "from sklearn.model_selection import train_test_split\n",
    "\n",
    "X_train, X_test, y_train, y_test \n",
    "    = train_test_split(data['text'], data['label'], test_size=0.2, random_state=1)"
   ]
  },
  {
   "cell_type": "markdown",
   "metadata": {},
   "source": [
    "# MODELES"
   ]
  },
  {
   "cell_type": "markdown",
   "metadata": {},
   "source": [
    "## NAIVE BAYES"
   ]
  },
  {
   "cell_type": "code",
   "execution_count": null,
   "metadata": {},
   "outputs": [],
   "source": [
    "from sklearn.naives_bayes import MultinomialNB\n",
    "from sklearn import metrics\n",
    "\n",
    "MNB = MultinomialNB()\n",
    "MNB.fit(X_train, y_train)"
   ]
  },
  {
   "cell_type": "code",
   "execution_count": null,
   "metadata": {},
   "outputs": [],
   "source": [
    "predicted = MNB.predict(X_test)\n",
    "accuracy_score = metrics.accuracy_score(predicted, y_test)"
   ]
  },
  {
   "cell_type": "markdown",
   "metadata": {},
   "source": [
    "## REGRESSION LOGISTIQUE"
   ]
  },
  {
   "cell_type": "code",
   "execution_count": null,
   "metadata": {},
   "outputs": [],
   "source": [
    "from sklearn.linear_model import LogisticRegression, SGDClassifier\n",
    "\n",
    "SGDC = SGDClassifier()\n",
    "\n",
    "SGDC.fit(X_train, y_train)\n",
    "accuracy_score_sgdc_CV = metrics.accuracy_score(SGDC.predict(X_test), y_test)"
   ]
  },
  {
   "cell_type": "markdown",
   "metadata": {},
   "source": [
    "## REGRESSION LINEAIRE"
   ]
  },
  {
   "cell_type": "code",
   "execution_count": null,
   "metadata": {},
   "outputs": [],
   "source": []
  }
 ],
 "metadata": {
  "kernelspec": {
   "display_name": "Python 3",
   "language": "python",
   "name": "python3"
  },
  "language_info": {
   "codemirror_mode": {
    "name": "ipython",
    "version": 3
   },
   "file_extension": ".py",
   "mimetype": "text/x-python",
   "name": "python",
   "nbconvert_exporter": "python",
   "pygments_lexer": "ipython3",
   "version": "3.7.6"
  }
 },
 "nbformat": 4,
 "nbformat_minor": 4
}
